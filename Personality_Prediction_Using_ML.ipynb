{
  "nbformat": 4,
  "nbformat_minor": 0,
  "metadata": {
    "colab": {
      "provenance": []
    },
    "kernelspec": {
      "name": "python3",
      "display_name": "Python 3"
    },
    "language_info": {
      "name": "python"
    }
  },
  "cells": [
    {
      "cell_type": "markdown",
      "source": [
        "**Business Objective:**\n",
        "\n",
        "To develop a predictive model that classifies individuals as Introverts or Extroverts based on their social behavior and activity patterns, helping businesses tailor products, services, or marketing strategies to better suit personality-driven preferences.\n"
      ],
      "metadata": {
        "id": "3A_nXjQZbB0z"
      }
    },
    {
      "cell_type": "markdown",
      "source": [
        "| Column Name                  | Description                                                                 |\n",
        "|-----------------------------|-----------------------------------------------------------------------------|\n",
        "| `Time_spent_Alone`          | Number of hours a person spends alone on average daily.                    |\n",
        "| `Stage_fear`                | Indicates whether the person has fear of public speaking (Yes/No).         |\n",
        "| `Social_event_attendance`   | Number of social events attended in a month.                               |\n",
        "| `Going_outside`             | Indicates if the person willingly goes outside regularly (Yes/No).         |\n",
        "| `Drained_after_socializing`| Indicates if the person feels mentally drained after social interactions.  |\n",
        "| `Friends_circle_size`       | Number of close or frequent friends in the person’s circle.                |\n",
        "| `Post_frequency`            | Number of posts shared on social media per week.                          |\n",
        "| `Personality`               | Target variable; indicates if the person is an Introvert or Extrovert.     |\n"
      ],
      "metadata": {
        "id": "oorNSG8ebFfC"
      }
    },
    {
      "cell_type": "code",
      "execution_count": null,
      "metadata": {
        "id": "gfK5vh6vZhDt"
      },
      "outputs": [],
      "source": []
    }
  ]
}